{
 "cells": [
  {
   "cell_type": "markdown",
   "id": "5d295a8a-db05-4f8a-aa10-9885c4801eba",
   "metadata": {},
   "source": [
    "# Assignement Notebook"
   ]
  },
  {
   "cell_type": "code",
   "execution_count": 1,
   "id": "826e6001-7ce7-4ec8-ade0-2f9c718ebe25",
   "metadata": {
    "execution": {
     "iopub.execute_input": "2022-05-04T12:33:01.101713Z",
     "iopub.status.busy": "2022-05-04T12:33:01.101104Z",
     "iopub.status.idle": "2022-05-04T12:33:02.007751Z",
     "shell.execute_reply": "2022-05-04T12:33:02.007054Z",
     "shell.execute_reply.started": "2022-05-04T12:33:01.101680Z"
    },
    "tags": []
   },
   "outputs": [],
   "source": [
    "#=====> Import modules\n",
    "# System tools\n",
    "import os\n",
    "import sys\n",
    "sys.path.append(os.getcwd())\n",
    "\n",
    "# Import teaching utils\n",
    "import numpy as np\n",
    "import pandas as pd\n",
    "# import utils.classifier_utils as clf\n",
    "\n",
    "# Neural network \n",
    "# from utils.neuralnetwork import NeuralNetwork\n",
    "\n",
    "# Import sklearn metrics\n",
    "from sklearn import metrics\n",
    "from sklearn.datasets import fetch_openml\n",
    "from sklearn.model_selection import train_test_split\n",
    "from sklearn.linear_model import LogisticRegression\n",
    "from sklearn.metrics import accuracy_score\n",
    "from sklearn.preprocessing import LabelBinarizer\n",
    "from sklearn.feature_extraction.text import TfidfVectorizer"
   ]
  },
  {
   "cell_type": "markdown",
   "id": "59bffa2d-d32b-44ba-a14c-3ed3ccef97d7",
   "metadata": {},
   "source": [
    "### Testing functions "
   ]
  },
  {
   "cell_type": "code",
   "execution_count": 2,
   "id": "215245e9-fd94-455c-8299-d6007e424bb3",
   "metadata": {
    "execution": {
     "iopub.execute_input": "2022-05-04T12:33:08.653851Z",
     "iopub.status.busy": "2022-05-04T12:33:08.653237Z",
     "iopub.status.idle": "2022-05-04T12:33:08.798401Z",
     "shell.execute_reply": "2022-05-04T12:33:08.797593Z",
     "shell.execute_reply.started": "2022-05-04T12:33:08.653798Z"
    },
    "tags": []
   },
   "outputs": [],
   "source": [
    "filepath = os.path.join(\"..\", \"in\", \"VideoCommentsThreatCorpus.csv\")\n",
    "data = pd.read_csv(filepath)"
   ]
  },
  {
   "cell_type": "code",
   "execution_count": 3,
   "id": "ee8c9eca-41c2-43c7-aed2-dd14637dd80c",
   "metadata": {
    "execution": {
     "iopub.execute_input": "2022-05-04T12:33:09.611242Z",
     "iopub.status.busy": "2022-05-04T12:33:09.610731Z",
     "iopub.status.idle": "2022-05-04T12:33:09.627897Z",
     "shell.execute_reply": "2022-05-04T12:33:09.627149Z",
     "shell.execute_reply.started": "2022-05-04T12:33:09.611191Z"
    },
    "tags": []
   },
   "outputs": [
    {
     "data": {
      "text/html": [
       "<div>\n",
       "<style scoped>\n",
       "    .dataframe tbody tr th:only-of-type {\n",
       "        vertical-align: middle;\n",
       "    }\n",
       "\n",
       "    .dataframe tbody tr th {\n",
       "        vertical-align: top;\n",
       "    }\n",
       "\n",
       "    .dataframe thead th {\n",
       "        text-align: right;\n",
       "    }\n",
       "</style>\n",
       "<table border=\"1\" class=\"dataframe\">\n",
       "  <thead>\n",
       "    <tr style=\"text-align: right;\">\n",
       "      <th></th>\n",
       "      <th>label</th>\n",
       "      <th>text</th>\n",
       "    </tr>\n",
       "  </thead>\n",
       "  <tbody>\n",
       "    <tr>\n",
       "      <th>0</th>\n",
       "      <td>0</td>\n",
       "      <td>It's because Europeans do not want to change t...</td>\n",
       "    </tr>\n",
       "    <tr>\n",
       "      <th>1</th>\n",
       "      <td>0</td>\n",
       "      <td>The Muslims there do not want to assimilate pr...</td>\n",
       "    </tr>\n",
       "    <tr>\n",
       "      <th>2</th>\n",
       "      <td>1</td>\n",
       "      <td>But it's ok....because Europe will soon rebel ...</td>\n",
       "    </tr>\n",
       "    <tr>\n",
       "      <th>3</th>\n",
       "      <td>0</td>\n",
       "      <td>I forsee a big civil war in Europe in the futu...</td>\n",
       "    </tr>\n",
       "    <tr>\n",
       "      <th>4</th>\n",
       "      <td>0</td>\n",
       "      <td>ISLAM – A Simple, Humanitarian and Attractive ...</td>\n",
       "    </tr>\n",
       "    <tr>\n",
       "      <th>...</th>\n",
       "      <td>...</td>\n",
       "      <td>...</td>\n",
       "    </tr>\n",
       "    <tr>\n",
       "      <th>28638</th>\n",
       "      <td>1</td>\n",
       "      <td>yeah we are all monsters..I'm gonna kill u rig...</td>\n",
       "    </tr>\n",
       "    <tr>\n",
       "      <th>28639</th>\n",
       "      <td>0</td>\n",
       "      <td>stupid brainwashed idiot..\\n</td>\n",
       "    </tr>\n",
       "    <tr>\n",
       "      <th>28640</th>\n",
       "      <td>0</td>\n",
       "      <td>have you EVER been to Serbia or kosovo...fucki...</td>\n",
       "    </tr>\n",
       "    <tr>\n",
       "      <th>28641</th>\n",
       "      <td>0</td>\n",
       "      <td>probably u mean to this monsters, fucker /watc...</td>\n",
       "    </tr>\n",
       "    <tr>\n",
       "      <th>28642</th>\n",
       "      <td>0</td>\n",
       "      <td>the fucking funniest thing is that fucking ame...</td>\n",
       "    </tr>\n",
       "  </tbody>\n",
       "</table>\n",
       "<p>28643 rows × 2 columns</p>\n",
       "</div>"
      ],
      "text/plain": [
       "       label                                               text\n",
       "0          0  It's because Europeans do not want to change t...\n",
       "1          0  The Muslims there do not want to assimilate pr...\n",
       "2          1  But it's ok....because Europe will soon rebel ...\n",
       "3          0  I forsee a big civil war in Europe in the futu...\n",
       "4          0  ISLAM – A Simple, Humanitarian and Attractive ...\n",
       "...      ...                                                ...\n",
       "28638      1  yeah we are all monsters..I'm gonna kill u rig...\n",
       "28639      0                       stupid brainwashed idiot..\\n\n",
       "28640      0  have you EVER been to Serbia or kosovo...fucki...\n",
       "28641      0  probably u mean to this monsters, fucker /watc...\n",
       "28642      0  the fucking funniest thing is that fucking ame...\n",
       "\n",
       "[28643 rows x 2 columns]"
      ]
     },
     "execution_count": 3,
     "metadata": {},
     "output_type": "execute_result"
    }
   ],
   "source": [
    "data"
   ]
  },
  {
   "cell_type": "code",
   "execution_count": 4,
   "id": "4f3430a3-d4dd-44c2-adec-35428d474cbf",
   "metadata": {
    "execution": {
     "iopub.execute_input": "2022-05-04T12:33:11.193996Z",
     "iopub.status.busy": "2022-05-04T12:33:11.193598Z",
     "iopub.status.idle": "2022-05-04T12:33:11.217293Z",
     "shell.execute_reply": "2022-05-04T12:33:11.216159Z",
     "shell.execute_reply.started": "2022-05-04T12:33:11.193957Z"
    },
    "tags": []
   },
   "outputs": [
    {
     "data": {
      "text/plain": [
       "0    27256\n",
       "1     1387\n",
       "Name: label, dtype: int64"
      ]
     },
     "execution_count": 4,
     "metadata": {},
     "output_type": "execute_result"
    }
   ],
   "source": [
    "data[\"label\"].value_counts() # (can be indexed)"
   ]
  },
  {
   "cell_type": "code",
   "execution_count": 5,
   "id": "0d884352-4a46-40d8-86c8-4ac9fca5ed99",
   "metadata": {
    "execution": {
     "iopub.execute_input": "2022-05-04T12:33:11.787635Z",
     "iopub.status.busy": "2022-05-04T12:33:11.787227Z",
     "iopub.status.idle": "2022-05-04T12:33:11.794130Z",
     "shell.execute_reply": "2022-05-04T12:33:11.793290Z",
     "shell.execute_reply.started": "2022-05-04T12:33:11.787603Z"
    },
    "tags": []
   },
   "outputs": [],
   "source": [
    "# Function for balancing datasets using pandas\n",
    "def balance(dataframe, n=500):\n",
    "    \"\"\"\n",
    "    Create a balanced sample from imbalanced datasets.\n",
    "    \n",
    "    dataframe: \n",
    "        Pandas dataframe with a column called 'text' and one called 'label'\n",
    "    n:         \n",
    "        Number of samples from each label, defaults to 500\n",
    "    \"\"\"\n",
    "    # Use pandas select a random bunch of examples from each label\n",
    "    out = (dataframe.groupby('label', as_index=False)\n",
    "            .apply(lambda x: x.sample(n=n))\n",
    "            .reset_index(drop=True))\n",
    "    \n",
    "    return out"
   ]
  },
  {
   "cell_type": "markdown",
   "id": "a5720c96-4081-4a05-86b4-e9874ae950c6",
   "metadata": {},
   "source": [
    "AHA! There is abig difference in the nr. of pos/neg documents! I will have to make a balanced sample!"
   ]
  },
  {
   "cell_type": "code",
   "execution_count": 6,
   "id": "a8254125-a78b-4fd2-8f31-c1bb8e33222d",
   "metadata": {
    "execution": {
     "iopub.execute_input": "2022-05-04T12:33:13.031739Z",
     "iopub.status.busy": "2022-05-04T12:33:13.031199Z",
     "iopub.status.idle": "2022-05-04T12:33:13.135578Z",
     "shell.execute_reply": "2022-05-04T12:33:13.134733Z",
     "shell.execute_reply.started": "2022-05-04T12:33:13.031688Z"
    },
    "tags": []
   },
   "outputs": [],
   "source": [
    "# Making a balanced sample\n",
    "# Create a random sample \n",
    "data_balance = balance(data, 1000)"
   ]
  },
  {
   "cell_type": "code",
   "execution_count": 7,
   "id": "26572eb2-0eb2-498e-abf6-7cd1b5e289b4",
   "metadata": {
    "execution": {
     "iopub.execute_input": "2022-05-04T12:33:13.503040Z",
     "iopub.status.busy": "2022-05-04T12:33:13.502491Z",
     "iopub.status.idle": "2022-05-04T12:33:13.513231Z",
     "shell.execute_reply": "2022-05-04T12:33:13.512287Z",
     "shell.execute_reply.started": "2022-05-04T12:33:13.502995Z"
    },
    "tags": []
   },
   "outputs": [
    {
     "data": {
      "text/plain": [
       "0    1000\n",
       "1    1000\n",
       "Name: label, dtype: int64"
      ]
     },
     "execution_count": 7,
     "metadata": {},
     "output_type": "execute_result"
    }
   ],
   "source": [
    "data_balance.shape\n",
    "data_balance[\"label\"].value_counts() # (can be indexed)"
   ]
  },
  {
   "cell_type": "code",
   "execution_count": 8,
   "id": "a1ecaa44-15cd-4263-afc0-3e26e30c03dc",
   "metadata": {
    "execution": {
     "iopub.execute_input": "2022-05-04T12:33:13.975939Z",
     "iopub.status.busy": "2022-05-04T12:33:13.975577Z",
     "iopub.status.idle": "2022-05-04T12:33:13.978926Z",
     "shell.execute_reply": "2022-05-04T12:33:13.978490Z",
     "shell.execute_reply.started": "2022-05-04T12:33:13.975913Z"
    },
    "tags": []
   },
   "outputs": [],
   "source": [
    "# Split data \n",
    "# data = data.reset_index(drop=True) didn't seem to do anything \n",
    "X = data[\"text\"]\n",
    "y = data[\"label\"]"
   ]
  },
  {
   "cell_type": "code",
   "execution_count": 9,
   "id": "5e71cfa7-bf6e-4742-aac4-c9c7b353b16e",
   "metadata": {
    "execution": {
     "iopub.execute_input": "2022-05-04T12:33:14.486169Z",
     "iopub.status.busy": "2022-05-04T12:33:14.485652Z",
     "iopub.status.idle": "2022-05-04T12:33:14.500915Z",
     "shell.execute_reply": "2022-05-04T12:33:14.500238Z",
     "shell.execute_reply.started": "2022-05-04T12:33:14.486117Z"
    },
    "tags": []
   },
   "outputs": [],
   "source": [
    "# Balancing data using some code I cribbed from the utils.balance() function\n",
    "data_balance = (data.groupby('label', as_index=False)\n",
    "                    .apply(lambda x: x.sample(n=1000))\n",
    "                    .reset_index(drop=True))"
   ]
  },
  {
   "cell_type": "code",
   "execution_count": 10,
   "id": "2271c536-5a3c-4d7e-842d-a17062572671",
   "metadata": {
    "execution": {
     "iopub.execute_input": "2022-05-04T12:33:14.846708Z",
     "iopub.status.busy": "2022-05-04T12:33:14.846170Z",
     "iopub.status.idle": "2022-05-04T12:33:14.853344Z",
     "shell.execute_reply": "2022-05-04T12:33:14.852099Z",
     "shell.execute_reply.started": "2022-05-04T12:33:14.846655Z"
    },
    "tags": []
   },
   "outputs": [],
   "source": [
    "# Splitting X and y\n",
    "X = data_balance[\"text\"]\n",
    "y = data_balance[\"label\"]"
   ]
  },
  {
   "cell_type": "code",
   "execution_count": 11,
   "id": "13a85551-a562-4513-92e2-497d6164fa20",
   "metadata": {
    "execution": {
     "iopub.execute_input": "2022-05-04T12:33:15.179089Z",
     "iopub.status.busy": "2022-05-04T12:33:15.178457Z",
     "iopub.status.idle": "2022-05-04T12:33:15.210487Z",
     "shell.execute_reply": "2022-05-04T12:33:15.209669Z",
     "shell.execute_reply.started": "2022-05-04T12:33:15.179036Z"
    },
    "tags": []
   },
   "outputs": [],
   "source": [
    "X_train, X_test, y_train, y_test = train_test_split(X, # data\n",
    "                                                    y, # labels\n",
    "                                                    test_size=0.2, # 80-20% split\n",
    "                                                    random_state=42) # Set seed"
   ]
  },
  {
   "cell_type": "code",
   "execution_count": 12,
   "id": "6fb5c085-7783-45b0-b0b0-eb5111fa6bc3",
   "metadata": {
    "execution": {
     "iopub.execute_input": "2022-05-04T12:33:15.508398Z",
     "iopub.status.busy": "2022-05-04T12:33:15.508123Z",
     "iopub.status.idle": "2022-05-04T12:33:15.514138Z",
     "shell.execute_reply": "2022-05-04T12:33:15.513373Z",
     "shell.execute_reply.started": "2022-05-04T12:33:15.508373Z"
    },
    "tags": []
   },
   "outputs": [
    {
     "name": "stdout",
     "output_type": "stream",
     "text": [
      "2000\n",
      "1600.0\n",
      "400.0\n",
      "2000.0\n",
      "28643\n"
     ]
    }
   ],
   "source": [
    "print(len(y))\n",
    "print(len(y)*0.8)\n",
    "print(len(y)*0.2)\n",
    "print(len(y)*0.8 + len(y)*0.2)\n",
    "print(22914 + 5729)"
   ]
  },
  {
   "cell_type": "markdown",
   "id": "7be382f2-d176-45ad-9312-0e5093a03551",
   "metadata": {},
   "source": [
    "__Test function___"
   ]
  },
  {
   "cell_type": "code",
   "execution_count": 13,
   "id": "06e6fb73-abda-4c4d-8d13-c91b87c8e8f9",
   "metadata": {
    "execution": {
     "iopub.execute_input": "2022-05-04T12:33:16.386534Z",
     "iopub.status.busy": "2022-05-04T12:33:16.385883Z",
     "iopub.status.idle": "2022-05-04T12:33:16.396330Z",
     "shell.execute_reply": "2022-05-04T12:33:16.395551Z",
     "shell.execute_reply.started": "2022-05-04T12:33:16.386480Z"
    },
    "tags": []
   },
   "outputs": [],
   "source": [
    "# > Load data \n",
    "def prep_data():\n",
    "    # Print info \n",
    "    print(\"[info] Loading data...\")\n",
    "    # Load data \n",
    "    filepath = os.path.join(\"..\", \"in\", \"VideoCommentsThreatCorpus.csv\")\n",
    "    data = pd.read_csv(filepath)\n",
    "    # Balancing data using some code I cribbed from the utils.balance() function\n",
    "    data_balance = (data.groupby('label', as_index=False)\n",
    "                        .apply(lambda x: x.sample(n=1000))\n",
    "                        .reset_index(drop=True))\n",
    "    # Splitting X and y \n",
    "    X = data_balance[\"text\"]\n",
    "    y = data_balance[\"label\"]\n",
    "    # Splitting data \n",
    "    X_train, X_test, y_train, y_test = train_test_split(X, # data\n",
    "                                                        y, # labels\n",
    "                                                        test_size=0.2, # 80-20% split\n",
    "                                                        random_state=42) # Set seed\n",
    "    # Print info\n",
    "    print(\"[info] Data loaded\")\n",
    "    print(\"[info] Training data = 80%, Test data = 20%\")\n",
    "    \n",
    "    return (X_train, X_test, y_train, y_test)"
   ]
  },
  {
   "cell_type": "code",
   "execution_count": 14,
   "id": "148b4a32-d163-4160-8f93-faad2743d8a5",
   "metadata": {
    "execution": {
     "iopub.execute_input": "2022-05-04T12:33:19.019812Z",
     "iopub.status.busy": "2022-05-04T12:33:19.019286Z",
     "iopub.status.idle": "2022-05-04T12:33:19.074962Z",
     "shell.execute_reply": "2022-05-04T12:33:19.074353Z",
     "shell.execute_reply.started": "2022-05-04T12:33:19.019761Z"
    },
    "tags": []
   },
   "outputs": [
    {
     "name": "stdout",
     "output_type": "stream",
     "text": [
      "[info] Loading data...\n",
      "[info] Data loaded\n",
      "[info] Training data = 80%, Test data = 20%\n"
     ]
    }
   ],
   "source": [
    "(X_train, X_test, y_train, y_test) = prep_data()"
   ]
  },
  {
   "cell_type": "code",
   "execution_count": 15,
   "id": "ab4faf37-0303-43ad-9a83-c8a6b8809c1c",
   "metadata": {
    "execution": {
     "iopub.execute_input": "2022-05-04T12:33:20.401197Z",
     "iopub.status.busy": "2022-05-04T12:33:20.400693Z",
     "iopub.status.idle": "2022-05-04T12:33:20.410797Z",
     "shell.execute_reply": "2022-05-04T12:33:20.410096Z",
     "shell.execute_reply.started": "2022-05-04T12:33:20.401149Z"
    },
    "tags": []
   },
   "outputs": [
    {
     "data": {
      "text/plain": [
       "968             who the fuck is jfk and yitzhak rabin ?\\n\n",
       "240           Muslims in the America feel the same way.\\n\n",
       "819                 send the muslims to their countries\\n\n",
       "692     If God didn't seem \"familiar\" to you, then you...\n",
       "420     In a near years riots would be normal in Europ...\n",
       "                              ...                        \n",
       "1130    You noob ,whites build up their real economy, ...\n",
       "1294    Start buying guns and ammo your gonna need it ...\n",
       "860                       Only the good will survive!!!\\n\n",
       "1459                                       il kill you!\\n\n",
       "1126                              Now, go die in peace.\\n\n",
       "Name: text, Length: 1600, dtype: object"
      ]
     },
     "execution_count": 15,
     "metadata": {},
     "output_type": "execute_result"
    }
   ],
   "source": [
    "X_train"
   ]
  },
  {
   "cell_type": "code",
   "execution_count": 16,
   "id": "3206b986-67c6-40be-aa39-1ff7c1a01864",
   "metadata": {
    "execution": {
     "iopub.execute_input": "2022-05-04T12:33:29.899650Z",
     "iopub.status.busy": "2022-05-04T12:33:29.899124Z",
     "iopub.status.idle": "2022-05-04T12:33:29.905339Z",
     "shell.execute_reply": "2022-05-04T12:33:29.904280Z",
     "shell.execute_reply.started": "2022-05-04T12:33:29.899599Z"
    },
    "tags": []
   },
   "outputs": [],
   "source": [
    "# Initialize label names\n",
    "label_names = [\"Nontoxic\", \"Toxic\"]"
   ]
  },
  {
   "cell_type": "markdown",
   "id": "9522fccd-5890-467e-a060-675cbb31d4a1",
   "metadata": {},
   "source": [
    "__Vectorize data___"
   ]
  },
  {
   "cell_type": "code",
   "execution_count": 44,
   "id": "2de7e244-4c7c-4deb-8417-35d31b83a41f",
   "metadata": {
    "execution": {
     "iopub.execute_input": "2022-04-26T14:03:03.995193Z",
     "iopub.status.busy": "2022-04-26T14:03:03.994677Z",
     "iopub.status.idle": "2022-04-26T14:03:04.002630Z",
     "shell.execute_reply": "2022-04-26T14:03:04.001526Z",
     "shell.execute_reply.started": "2022-04-26T14:03:03.995141Z"
    },
    "tags": []
   },
   "outputs": [],
   "source": [
    "vectorizer = TfidfVectorizer(ngram_range = (1,2), # unigrams and bygrams (no trigrams)\n",
    "                             lowercase = True, # Make words lowercase\n",
    "                             max_df = 0.95, # remove very common words (df = documnet frequency)\n",
    "                             min_df = 0.05, # remove very rare words\n",
    "                             max_features = 100) # keep only 500 features (limits the nr of words) \n",
    "                                                 # limitig features keeps the model for overfitting in small data"
   ]
  },
  {
   "cell_type": "code",
   "execution_count": 47,
   "id": "94acdb4b-a771-43a4-a1d7-45b4c7b0b879",
   "metadata": {
    "execution": {
     "iopub.execute_input": "2022-04-26T14:07:30.352539Z",
     "iopub.status.busy": "2022-04-26T14:07:30.352017Z",
     "iopub.status.idle": "2022-04-26T14:07:30.453033Z",
     "shell.execute_reply": "2022-04-26T14:07:30.452389Z",
     "shell.execute_reply.started": "2022-04-26T14:07:30.352490Z"
    },
    "tags": []
   },
   "outputs": [],
   "source": [
    "# Fit to the training data \n",
    "X_train_feats = vectorizer.fit_transform(X_train)\n",
    "# Then we transform (Not fit the data)\n",
    "X_test_feats = vectorizer.transform(X_test)\n",
    "# Get feature names\n",
    "feature_names = vectorizer.get_feature_names_out()"
   ]
  },
  {
   "cell_type": "code",
   "execution_count": 62,
   "id": "775e4a9e-6170-46ad-ae14-4c2199dc389e",
   "metadata": {
    "execution": {
     "iopub.execute_input": "2022-04-26T14:18:59.758008Z",
     "iopub.status.busy": "2022-04-26T14:18:59.757352Z",
     "iopub.status.idle": "2022-04-26T14:18:59.766795Z",
     "shell.execute_reply": "2022-04-26T14:18:59.765796Z",
     "shell.execute_reply.started": "2022-04-26T14:18:59.757955Z"
    },
    "tags": []
   },
   "outputs": [
    {
     "data": {
      "text/plain": [
       "array(['all', 'and', 'are', 'be', 'but', 'die', 'europe', 'for', 'have',\n",
       "       'if', 'in', 'is', 'islam', 'it', 'kill', 'like', 'muslims', 'not',\n",
       "       'of', 'on', 'or', 'people', 'that', 'the', 'them', 'they', 'this',\n",
       "       'to', 'we', 'who', 'will', 'with', 'you', 'your'], dtype=object)"
      ]
     },
     "execution_count": 62,
     "metadata": {},
     "output_type": "execute_result"
    }
   ],
   "source": [
    "feature_names"
   ]
  },
  {
   "cell_type": "markdown",
   "id": "19570923-7404-4ddc-afc3-38ea8ae0a173",
   "metadata": {},
   "source": [
    "__Test function__"
   ]
  },
  {
   "cell_type": "code",
   "execution_count": 63,
   "id": "7da36d17-ab64-48f4-9b9d-5b71b56429c5",
   "metadata": {
    "execution": {
     "iopub.execute_input": "2022-04-26T14:23:42.649731Z",
     "iopub.status.busy": "2022-04-26T14:23:42.649222Z",
     "iopub.status.idle": "2022-04-26T14:23:42.658158Z",
     "shell.execute_reply": "2022-04-26T14:23:42.657266Z",
     "shell.execute_reply.started": "2022-04-26T14:23:42.649680Z"
    }
   },
   "outputs": [],
   "source": [
    "def vectorize(X_train, X_test):\n",
    "    # Print info \n",
    "    print(\"[info] Vectorizing data...\")\n",
    "    vectorizer = TfidfVectorizer(ngram_range = (1,2), # unigrams and bygrams (no trigrams)\n",
    "                                 lowercase = True, # Make words lowercase\n",
    "                                 max_df = 0.95, # remove very common words (df = documnet frequency)\n",
    "                                 min_df = 0.05, # remove very rare words\n",
    "                                 max_features = 100) # keep only 500 features (limits the nr of words) \n",
    "                                                     # limitig features keeps the model for overfitting in small data\n",
    "    # Fit to the training data \n",
    "    X_train_feats = vectorizer.fit_transform(X_train)\n",
    "    # Then we transform test data to match training data \n",
    "    X_test_feats = vectorizer.transform(X_test)\n",
    "    # Print info\n",
    "    print(\"[info] Data vectorized\")\n",
    "    \n",
    "    return (X_train_feats, X_test_feats)\n"
   ]
  },
  {
   "cell_type": "code",
   "execution_count": 64,
   "id": "cf1654f7-3817-4657-b351-5ef02298cc2a",
   "metadata": {
    "execution": {
     "iopub.execute_input": "2022-04-26T14:24:37.852260Z",
     "iopub.status.busy": "2022-04-26T14:24:37.851734Z",
     "iopub.status.idle": "2022-04-26T14:24:37.929192Z",
     "shell.execute_reply": "2022-04-26T14:24:37.928603Z",
     "shell.execute_reply.started": "2022-04-26T14:24:37.852187Z"
    }
   },
   "outputs": [],
   "source": [
    "X_train_feats, X_test_feats = vectorize(X_train, X_test)"
   ]
  },
  {
   "cell_type": "markdown",
   "id": "2b858f65-2415-4588-b6f7-c7fbf5890e1f",
   "metadata": {},
   "source": [
    "__Classify and predict__"
   ]
  },
  {
   "cell_type": "code",
   "execution_count": 65,
   "id": "2540aafd-c6eb-456d-b5e3-ba3a71f14ca0",
   "metadata": {
    "execution": {
     "iopub.execute_input": "2022-04-26T14:24:43.934882Z",
     "iopub.status.busy": "2022-04-26T14:24:43.934376Z",
     "iopub.status.idle": "2022-04-26T14:24:43.954836Z",
     "shell.execute_reply": "2022-04-26T14:24:43.954165Z",
     "shell.execute_reply.started": "2022-04-26T14:24:43.934829Z"
    },
    "tags": []
   },
   "outputs": [],
   "source": [
    "classifier = LogisticRegression(random_state=42).fit(X_train_feats, y_train)"
   ]
  },
  {
   "cell_type": "code",
   "execution_count": 66,
   "id": "5d571357-9ccf-456d-9a6a-ad89de45113a",
   "metadata": {
    "execution": {
     "iopub.execute_input": "2022-04-26T14:24:44.828707Z",
     "iopub.status.busy": "2022-04-26T14:24:44.828065Z",
     "iopub.status.idle": "2022-04-26T14:24:44.835118Z",
     "shell.execute_reply": "2022-04-26T14:24:44.834174Z",
     "shell.execute_reply.started": "2022-04-26T14:24:44.828655Z"
    },
    "tags": []
   },
   "outputs": [],
   "source": [
    "y_pred = classifier.predict(X_test_feats)"
   ]
  },
  {
   "cell_type": "code",
   "execution_count": 67,
   "id": "93e1c30e-c22e-4592-9209-fd0c2302111e",
   "metadata": {
    "execution": {
     "iopub.execute_input": "2022-04-26T14:24:45.536782Z",
     "iopub.status.busy": "2022-04-26T14:24:45.536263Z",
     "iopub.status.idle": "2022-04-26T14:24:45.545405Z",
     "shell.execute_reply": "2022-04-26T14:24:45.544294Z",
     "shell.execute_reply.started": "2022-04-26T14:24:45.536725Z"
    },
    "tags": []
   },
   "outputs": [
    {
     "name": "stdout",
     "output_type": "stream",
     "text": [
      "[0 0 1 1 1 1 0 0 0 1 0 1 0 0 0 1 0 0 1 1]\n"
     ]
    }
   ],
   "source": [
    "print(y_pred[:20])"
   ]
  },
  {
   "cell_type": "code",
   "execution_count": 68,
   "id": "5763d430-f137-4916-b6f8-22166cd2d0d7",
   "metadata": {
    "execution": {
     "iopub.execute_input": "2022-04-26T14:24:46.154587Z",
     "iopub.status.busy": "2022-04-26T14:24:46.154073Z",
     "iopub.status.idle": "2022-04-26T14:24:46.170979Z",
     "shell.execute_reply": "2022-04-26T14:24:46.170257Z",
     "shell.execute_reply.started": "2022-04-26T14:24:46.154535Z"
    },
    "tags": []
   },
   "outputs": [
    {
     "name": "stdout",
     "output_type": "stream",
     "text": [
      "              precision    recall  f1-score   support\n",
      "\n",
      "           0       0.71      0.75      0.73       199\n",
      "           1       0.74      0.70      0.72       201\n",
      "\n",
      "    accuracy                           0.73       400\n",
      "   macro avg       0.73      0.73      0.72       400\n",
      "weighted avg       0.73      0.72      0.72       400\n",
      "\n"
     ]
    }
   ],
   "source": [
    "classifier_metrics = metrics.classification_report(y_test, y_pred)\n",
    "print(classifier_metrics)"
   ]
  },
  {
   "cell_type": "code",
   "execution_count": 61,
   "id": "2035397f-b257-4898-8800-64caa1da2572",
   "metadata": {
    "execution": {
     "iopub.execute_input": "2022-04-26T14:17:48.870890Z",
     "iopub.status.busy": "2022-04-26T14:17:48.870377Z",
     "iopub.status.idle": "2022-04-26T14:17:48.878257Z",
     "shell.execute_reply": "2022-04-26T14:17:48.877421Z",
     "shell.execute_reply.started": "2022-04-26T14:17:48.870839Z"
    },
    "tags": []
   },
   "outputs": [],
   "source": [
    "# Save metrics\n",
    "outpath = os.path.join(\"..\", \"output\", \"logistic_report.txt\")\n",
    "with open(outpath, \"w\") as f:\n",
    "    f.write(classifier_metrics)"
   ]
  },
  {
   "cell_type": "markdown",
   "id": "2eb7e1a5-ef1f-448f-a02f-cab6b1fba3fd",
   "metadata": {},
   "source": [
    "__Test Function__"
   ]
  },
  {
   "cell_type": "code",
   "execution_count": 70,
   "id": "bcff4b24-e8ae-4c04-8c1e-7749910b2f31",
   "metadata": {
    "execution": {
     "iopub.execute_input": "2022-04-26T14:31:43.967132Z",
     "iopub.status.busy": "2022-04-26T14:31:43.966631Z",
     "iopub.status.idle": "2022-04-26T14:31:43.978218Z",
     "shell.execute_reply": "2022-04-26T14:31:43.976980Z",
     "shell.execute_reply.started": "2022-04-26T14:31:43.967082Z"
    },
    "tags": []
   },
   "outputs": [],
   "source": [
    "def classify(X_train_feats, y_train, X_test_feats, y_test):\n",
    "    # Print info\n",
    "    print(\"[info] Creating classifier\")\n",
    "    # Create classifier\n",
    "    classifier = LogisticRegression(random_state=42).fit(X_train_feats, y_train)\n",
    "    # Make predictions\n",
    "    y_pred = classifier.predict(X_test_feats)\n",
    "    # Get classifer metrics \n",
    "    classifier_metrics = metrics.classification_report(y_test, y_pred)\n",
    "    # Print info\n",
    "    print(\"[info] Printing classification report:\")\n",
    "    print(classifier_metrics)\n",
    "    # Save metrics\n",
    "    outpath = os.path.join(\"..\", \"output\", \"logistic_report.txt\")\n",
    "    with open(outpath, \"w\") as f:\n",
    "        f.write(classifier_metrics)\n",
    "    # Print info \n",
    "    print(\"[info] Classification report can be found as a .txt file in the 'outpot' directory\")\n",
    "    "
   ]
  },
  {
   "cell_type": "code",
   "execution_count": 71,
   "id": "3439061d-dffa-409c-b531-bb6daa4b9c70",
   "metadata": {
    "execution": {
     "iopub.execute_input": "2022-04-26T14:31:58.898154Z",
     "iopub.status.busy": "2022-04-26T14:31:58.897656Z",
     "iopub.status.idle": "2022-04-26T14:31:58.922606Z",
     "shell.execute_reply": "2022-04-26T14:31:58.921921Z",
     "shell.execute_reply.started": "2022-04-26T14:31:58.898103Z"
    }
   },
   "outputs": [
    {
     "name": "stdout",
     "output_type": "stream",
     "text": [
      "[info] Creating classifier\n",
      "[info] Printing classification report:\n",
      "              precision    recall  f1-score   support\n",
      "\n",
      "           0       0.71      0.75      0.73       199\n",
      "           1       0.74      0.70      0.72       201\n",
      "\n",
      "    accuracy                           0.73       400\n",
      "   macro avg       0.73      0.73      0.72       400\n",
      "weighted avg       0.73      0.72      0.72       400\n",
      "\n",
      "[info] Classification report can be found as a .txt file in the 'outpot' directory\n"
     ]
    }
   ],
   "source": [
    "classify(X_train_feats, y_train, X_test_feats, y_test)"
   ]
  },
  {
   "cell_type": "markdown",
   "id": "eb1c9374-3607-45d2-80ea-c09f37f31fab",
   "metadata": {},
   "source": [
    "### Neural network with embedding layer"
   ]
  },
  {
   "cell_type": "code",
   "execution_count": 17,
   "id": "cb184327-956f-4143-bc72-61a7945f5de9",
   "metadata": {
    "execution": {
     "iopub.execute_input": "2022-05-06T09:04:00.471219Z",
     "iopub.status.busy": "2022-05-06T09:04:00.470698Z",
     "iopub.status.idle": "2022-05-06T09:04:00.483952Z",
     "shell.execute_reply": "2022-05-06T09:04:00.483279Z",
     "shell.execute_reply.started": "2022-05-06T09:04:00.471169Z"
    },
    "tags": []
   },
   "outputs": [
    {
     "name": "stderr",
     "output_type": "stream",
     "text": [
      "[nltk_data] Downloading package punkt to /home/ucloud/nltk_data...\n",
      "[nltk_data]   Package punkt is already up-to-date!\n"
     ]
    }
   ],
   "source": [
    "# simple text processing tools\n",
    "import re\n",
    "import tqdm\n",
    "import os\n",
    "import contractions\n",
    "from bs4 import BeautifulSoup\n",
    "import nltk\n",
    "nltk.download('punkt')\n",
    "\n",
    "# data wranling\n",
    "import pandas as pd\n",
    "import numpy as np\n",
    "\n",
    "# tensorflow\n",
    "import tensorflow as tf \n",
    "from tensorflow.keras.models import Sequential\n",
    "from tensorflow.keras.layers import (Dense, \n",
    "                                    Flatten,\n",
    "                                    Conv1D, \n",
    "                                    MaxPooling1D, \n",
    "                                    Embedding)\n",
    "from tensorflow.keras.preprocessing.text import Tokenizer ##\n",
    "from tensorflow.keras.preprocessing import sequence\n",
    "\n",
    "# scikit-learn\n",
    "from sklearn.metrics import (confusion_matrix, \n",
    "                            classification_report)\n",
    "from sklearn.preprocessing import LabelBinarizer\n",
    "from sklearn.model_selection import train_test_split\n",
    "\n",
    "# visualisations \n",
    "import matplotlib.pyplot as plt\n",
    "\n",
    "# fix random seed for reproducibility\n",
    "seed = 42\n",
    "np.random.seed(seed)"
   ]
  },
  {
   "cell_type": "markdown",
   "id": "29353a98-777e-4884-bdbb-8cf83d6e3e54",
   "metadata": {},
   "source": [
    "__Define global variables__"
   ]
  },
  {
   "cell_type": "code",
   "execution_count": 27,
   "id": "1bf52b9a-001a-471a-8fd3-f23254e851f3",
   "metadata": {
    "execution": {
     "iopub.execute_input": "2022-05-06T09:12:55.954723Z",
     "iopub.status.busy": "2022-05-06T09:12:55.954168Z",
     "iopub.status.idle": "2022-05-06T09:12:55.962301Z",
     "shell.execute_reply": "2022-05-06T09:12:55.961046Z",
     "shell.execute_reply.started": "2022-05-06T09:12:55.954671Z"
    },
    "tags": []
   },
   "outputs": [],
   "source": [
    "# Max sequence length\n",
    "MX_SEQUENCE_LENGTH = 1000 \n",
    "# Vocabulary size \n",
    "VOCAB_SIZE = len(t.word_index)\n",
    "# Number of dimentions for embeddings \n",
    "EMBED_SIZE = 300\n",
    "# Number of epochs\n",
    "EPOCHS = 2\n",
    "# Batch size\n",
    "BATCH_SIZE = 128"
   ]
  },
  {
   "cell_type": "markdown",
   "id": "8e8a2492-2ee9-4c53-bcf2-c8366c7b4d29",
   "metadata": {},
   "source": [
    "__Load data__"
   ]
  },
  {
   "cell_type": "code",
   "execution_count": 8,
   "id": "f0c8c87a-bc44-4827-b07a-17b6c1f05baf",
   "metadata": {
    "execution": {
     "iopub.execute_input": "2022-05-06T08:57:38.482988Z",
     "iopub.status.busy": "2022-05-06T08:57:38.482450Z",
     "iopub.status.idle": "2022-05-06T08:57:38.495619Z",
     "shell.execute_reply": "2022-05-06T08:57:38.493862Z",
     "shell.execute_reply.started": "2022-05-06T08:57:38.482939Z"
    },
    "tags": []
   },
   "outputs": [],
   "source": [
    "# > Load data \n",
    "def prep_data():\n",
    "    # Print info \n",
    "    print(\"[info] Loading data...\")\n",
    "    # Load data \n",
    "    filepath = os.path.join(\"..\", \"in\", \"VideoCommentsThreatCorpus.csv\")\n",
    "    data = pd.read_csv(filepath)\n",
    "    # Balancing data using some code I cribbed from the utils.balance() function\n",
    "    data_balance = (data.groupby('label', as_index=False)\n",
    "                        .apply(lambda x: x.sample(n=1000))\n",
    "                        .reset_index(drop=True))\n",
    "    # Splitting X and y \n",
    "    X = data_balance[\"text\"]\n",
    "    y = data_balance[\"label\"]\n",
    "    # Splitting data \n",
    "    X_train, X_test, y_train, y_test = train_test_split(X, # data\n",
    "                                                        y, # labels\n",
    "                                                        test_size=0.2, # 80-20% split\n",
    "                                                        random_state=42) # Set seed\n",
    "    # Print info\n",
    "    print(\"[info] Data loaded\")\n",
    "    print(\"[info] Training data = 80%, Test data = 20%\")\n",
    "    \n",
    "    return (X_train, X_test, y_train, y_test)"
   ]
  },
  {
   "cell_type": "code",
   "execution_count": 9,
   "id": "5dd8397c-f4f9-4138-a4c1-78986ebd6d85",
   "metadata": {
    "execution": {
     "iopub.execute_input": "2022-05-06T08:57:39.258913Z",
     "iopub.status.busy": "2022-05-06T08:57:39.258375Z",
     "iopub.status.idle": "2022-05-06T08:57:39.319382Z",
     "shell.execute_reply": "2022-05-06T08:57:39.318652Z",
     "shell.execute_reply.started": "2022-05-06T08:57:39.258865Z"
    },
    "tags": []
   },
   "outputs": [
    {
     "name": "stdout",
     "output_type": "stream",
     "text": [
      "[info] Loading data...\n",
      "[info] Data loaded\n",
      "[info] Training data = 80%, Test data = 20%\n"
     ]
    }
   ],
   "source": [
    "(X_train, X_test, y_train, y_test) = prep_data()"
   ]
  },
  {
   "cell_type": "code",
   "execution_count": 29,
   "id": "b47997a4-6ead-4f0b-827f-cd16b685bcd4",
   "metadata": {
    "execution": {
     "iopub.execute_input": "2022-05-04T12:40:21.249886Z",
     "iopub.status.busy": "2022-05-04T12:40:21.248888Z",
     "iopub.status.idle": "2022-05-04T12:40:21.258573Z",
     "shell.execute_reply": "2022-05-04T12:40:21.257196Z",
     "shell.execute_reply.started": "2022-05-04T12:40:21.249795Z"
    },
    "tags": []
   },
   "outputs": [],
   "source": [
    "# Initialize label names\n",
    "label_names = [\"Nontoxic\", \"Toxic\"]"
   ]
  },
  {
   "cell_type": "markdown",
   "id": "5e4ae592-2e9b-4245-a97d-636d86690afa",
   "metadata": {},
   "source": [
    "__Tokenize documents/sequences___"
   ]
  },
  {
   "cell_type": "code",
   "execution_count": 10,
   "id": "31a1ca1a-c95d-4a9b-a35d-aea1a156773f",
   "metadata": {
    "execution": {
     "iopub.execute_input": "2022-05-06T08:57:57.637932Z",
     "iopub.status.busy": "2022-05-06T08:57:57.637400Z",
     "iopub.status.idle": "2022-05-06T08:57:57.680737Z",
     "shell.execute_reply": "2022-05-06T08:57:57.680120Z",
     "shell.execute_reply.started": "2022-05-06T08:57:57.637883Z"
    },
    "tags": []
   },
   "outputs": [],
   "source": [
    "# Define out of vocabulary token\n",
    "t = Tokenizer(oov_token = \"<UNK>\") \n",
    "# The unknown token is for when/if there is a word in the test data that does not appear in the training data \n",
    "# (on which the tokenier is fitted)\n",
    "\n",
    "# Fit the tokenizer on the documents \n",
    "t.fit_on_texts(X_train) # <- assigning a unique nr. to each \n",
    "\n",
    "# Set padding value (number the data is patted with?)\n",
    "t.word_index[\"<PAD>\"] = 0"
   ]
  },
  {
   "cell_type": "code",
   "execution_count": 11,
   "id": "42839425-835d-4ce1-801e-e7839a46b084",
   "metadata": {
    "execution": {
     "iopub.execute_input": "2022-05-06T08:57:58.476375Z",
     "iopub.status.busy": "2022-05-06T08:57:58.475835Z",
     "iopub.status.idle": "2022-05-06T08:57:58.512217Z",
     "shell.execute_reply": "2022-05-06T08:57:58.511517Z",
     "shell.execute_reply.started": "2022-05-06T08:57:58.476311Z"
    },
    "tags": []
   },
   "outputs": [],
   "source": [
    "X_train_seqs = t.texts_to_sequences(X_train)\n",
    "X_test_seqs = t.texts_to_sequences(X_test)"
   ]
  },
  {
   "cell_type": "code",
   "execution_count": 12,
   "id": "ffc7c92f-493c-470a-b829-a09a93eb62aa",
   "metadata": {
    "execution": {
     "iopub.execute_input": "2022-05-06T08:57:59.146389Z",
     "iopub.status.busy": "2022-05-06T08:57:59.145835Z",
     "iopub.status.idle": "2022-05-06T08:57:59.155393Z",
     "shell.execute_reply": "2022-05-06T08:57:59.154412Z",
     "shell.execute_reply.started": "2022-05-06T08:57:59.146338Z"
    },
    "tags": []
   },
   "outputs": [
    {
     "data": {
      "text/plain": [
       "[3, 244, 462, 106]"
      ]
     },
     "execution_count": 12,
     "metadata": {},
     "output_type": "execute_result"
    }
   ],
   "source": [
    "X_train_seqs[0][0:10]"
   ]
  },
  {
   "cell_type": "code",
   "execution_count": 14,
   "id": "46980452-497e-482c-aa44-2010761a45ba",
   "metadata": {
    "execution": {
     "iopub.execute_input": "2022-05-06T08:58:03.535213Z",
     "iopub.status.busy": "2022-05-06T08:58:03.534688Z",
     "iopub.status.idle": "2022-05-06T08:58:03.542732Z",
     "shell.execute_reply": "2022-05-06T08:58:03.541481Z",
     "shell.execute_reply.started": "2022-05-06T08:58:03.535165Z"
    },
    "tags": []
   },
   "outputs": [
    {
     "name": "stdout",
     "output_type": "stream",
     "text": [
      "Vocabulary size = 4060\n",
      "Number of documents/sequences = 1600\n"
     ]
    }
   ],
   "source": [
    "print(f\"Vocabulary size = {len(t.word_index)}\")\n",
    "print(f\"Number of documents/sequences = {t.document_count}\")"
   ]
  },
  {
   "cell_type": "markdown",
   "id": "40b9ed58-a22b-480d-951d-6b7b7ba230d7",
   "metadata": {},
   "source": [
    "__Test function__"
   ]
  },
  {
   "cell_type": "code",
   "execution_count": 15,
   "id": "92be17a9-a415-4ee4-b01b-212f9da56e75",
   "metadata": {
    "execution": {
     "iopub.execute_input": "2022-05-06T09:03:16.152658Z",
     "iopub.status.busy": "2022-05-06T09:03:16.152102Z",
     "iopub.status.idle": "2022-05-06T09:03:16.162784Z",
     "shell.execute_reply": "2022-05-06T09:03:16.161792Z",
     "shell.execute_reply.started": "2022-05-06T09:03:16.152609Z"
    }
   },
   "outputs": [],
   "source": [
    "def tokenize(X_train, X_test):\n",
    "    # Print info\n",
    "    print(\"[INFO] Tokenizing text...\")\n",
    "    \n",
    "    # Define out of vocabulary token\n",
    "    t = Tokenizer(oov_token = \"<UNK>\") \n",
    "    # Fit the tokenizer on the documents \n",
    "    t.fit_on_texts(X_train)\n",
    "    # Set padding value (number the data is patted with?)\n",
    "    t.word_index[\"<PAD>\"] = 0\n",
    "    \n",
    "    # Converting data to sequences\n",
    "    X_train_seqs = t.texts_to_sequences(X_train)\n",
    "    X_test_seqs = t.texts_to_sequences(X_test)\n",
    "    \n",
    "    # Print info \n",
    "    print(f\"[INFO] Vocabulary size = {len(t.word_index)}\")\n",
    "    print(f\"[INFO] Number of documents/sequences = {t.document_count}\")\n",
    "    \n",
    "    return (X_train_seqs, X_test_seqs)"
   ]
  },
  {
   "cell_type": "code",
   "execution_count": 16,
   "id": "c5545a13-1ad0-4d3d-a42d-090079d25da3",
   "metadata": {
    "execution": {
     "iopub.execute_input": "2022-05-06T09:03:38.829092Z",
     "iopub.status.busy": "2022-05-06T09:03:38.828560Z",
     "iopub.status.idle": "2022-05-06T09:03:38.887428Z",
     "shell.execute_reply": "2022-05-06T09:03:38.886806Z",
     "shell.execute_reply.started": "2022-05-06T09:03:38.829043Z"
    }
   },
   "outputs": [
    {
     "name": "stdout",
     "output_type": "stream",
     "text": [
      "[INFO] Tokenizing text...\n",
      "[INFO] Vocabulary size = 4060\n",
      "[INFO] Number of documents/sequences = 1600\n"
     ]
    }
   ],
   "source": [
    "(X_train_seqs, X_test_seqs) = tokenize(X_train, X_test)"
   ]
  },
  {
   "cell_type": "markdown",
   "id": "633e980b-97bc-4ed8-b007-1d3492d5be3e",
   "metadata": {},
   "source": [
    "__Normalize sequences__"
   ]
  },
  {
   "cell_type": "code",
   "execution_count": 30,
   "id": "104c708c-3375-422f-a373-a047e6d7b7b9",
   "metadata": {
    "execution": {
     "iopub.execute_input": "2022-05-04T12:42:06.466529Z",
     "iopub.status.busy": "2022-05-04T12:42:06.464818Z",
     "iopub.status.idle": "2022-05-04T12:42:06.471459Z",
     "shell.execute_reply": "2022-05-04T12:42:06.470933Z",
     "shell.execute_reply.started": "2022-05-04T12:42:06.466380Z"
    }
   },
   "outputs": [],
   "source": [
    "MX_SEQUENCE_LENGTH = 1000 \n",
    "# Global variables (static variables that effect the entirre code are capitalized and often defined at the start of the code)"
   ]
  },
  {
   "cell_type": "code",
   "execution_count": 21,
   "id": "cab6c895-500d-44ba-b1fd-85cc72260b7a",
   "metadata": {
    "execution": {
     "iopub.execute_input": "2022-05-06T09:05:51.916437Z",
     "iopub.status.busy": "2022-05-06T09:05:51.915741Z",
     "iopub.status.idle": "2022-05-06T09:05:51.936382Z",
     "shell.execute_reply": "2022-05-06T09:05:51.935373Z",
     "shell.execute_reply.started": "2022-05-06T09:05:51.916385Z"
    },
    "tags": []
   },
   "outputs": [],
   "source": [
    "# Padding sequences\n",
    "X_train_pad = sequence.pad_sequences(X_train_seqs, maxlen = MX_SEQUENCE_LENGTH) \n",
    "# Can change padding using  padding = \"post\"\n",
    "X_test_pad = sequence.pad_sequences(X_test_seqs, maxlen = MX_SEQUENCE_LENGTH)"
   ]
  },
  {
   "cell_type": "code",
   "execution_count": 22,
   "id": "c5f8537a-269a-445a-8487-36cd3e3a5b73",
   "metadata": {
    "execution": {
     "iopub.execute_input": "2022-05-06T09:05:52.554782Z",
     "iopub.status.busy": "2022-05-06T09:05:52.554240Z",
     "iopub.status.idle": "2022-05-06T09:05:52.563454Z",
     "shell.execute_reply": "2022-05-06T09:05:52.562310Z",
     "shell.execute_reply.started": "2022-05-06T09:05:52.554735Z"
    },
    "tags": []
   },
   "outputs": [
    {
     "data": {
      "text/plain": [
       "(1600, 1000)"
      ]
     },
     "execution_count": 22,
     "metadata": {},
     "output_type": "execute_result"
    }
   ],
   "source": [
    "X_train_pad.shape"
   ]
  },
  {
   "cell_type": "code",
   "execution_count": 23,
   "id": "5be9dded-ed77-41d3-bdf8-77afc2e1efc8",
   "metadata": {
    "execution": {
     "iopub.execute_input": "2022-05-06T09:05:53.505291Z",
     "iopub.status.busy": "2022-05-06T09:05:53.504644Z",
     "iopub.status.idle": "2022-05-06T09:05:53.513234Z",
     "shell.execute_reply": "2022-05-06T09:05:53.512243Z",
     "shell.execute_reply.started": "2022-05-06T09:05:53.505242Z"
    },
    "tags": []
   },
   "outputs": [
    {
     "data": {
      "text/plain": [
       "(400, 1000)"
      ]
     },
     "execution_count": 23,
     "metadata": {},
     "output_type": "execute_result"
    }
   ],
   "source": [
    "X_test_pad.shape"
   ]
  },
  {
   "cell_type": "code",
   "execution_count": 24,
   "id": "b9f1956c-3253-4fca-b113-184c1f15a9c0",
   "metadata": {
    "execution": {
     "iopub.execute_input": "2022-05-06T09:05:55.821813Z",
     "iopub.status.busy": "2022-05-06T09:05:55.820988Z",
     "iopub.status.idle": "2022-05-06T09:05:55.832516Z",
     "shell.execute_reply": "2022-05-06T09:05:55.831904Z",
     "shell.execute_reply.started": "2022-05-06T09:05:55.821763Z"
    },
    "tags": []
   },
   "outputs": [],
   "source": [
    "# Create one-hot encodings (Still not sure what this does)\n",
    "lb = LabelBinarizer()\n",
    "y_train_lb = lb.fit_transform(y_train)\n",
    "y_test_lb = lb.fit_transform(y_test)"
   ]
  },
  {
   "cell_type": "markdown",
   "id": "0aa8cd48-90ed-4b4b-814d-eed33cb259ae",
   "metadata": {},
   "source": [
    "__Testing function__"
   ]
  },
  {
   "cell_type": "code",
   "execution_count": 25,
   "id": "b98fa3ab-9568-461c-a305-05404eea6de0",
   "metadata": {
    "execution": {
     "iopub.execute_input": "2022-05-06T09:11:43.609960Z",
     "iopub.status.busy": "2022-05-06T09:11:43.609409Z",
     "iopub.status.idle": "2022-05-06T09:11:43.618977Z",
     "shell.execute_reply": "2022-05-06T09:11:43.618181Z",
     "shell.execute_reply.started": "2022-05-06T09:11:43.609911Z"
    }
   },
   "outputs": [],
   "source": [
    "def normalize(X_train_seqs, X_test_seqs, y_train, y_test):\n",
    "    # Print info \n",
    "    print(\"[INFO] Normalizing data...\")\n",
    "    \n",
    "    # Padding sequences\n",
    "    X_train_pad = sequence.pad_sequences(X_train_seqs, maxlen = MX_SEQUENCE_LENGTH) \n",
    "    # Can change padding using  padding = \"post\"\n",
    "    X_test_pad = sequence.pad_sequences(X_test_seqs, maxlen = MX_SEQUENCE_LENGTH)\n",
    "    \n",
    "    # Create one-hot encodings (Still not sure what this does)\n",
    "    lb = LabelBinarizer()\n",
    "    y_train_lb = lb.fit_transform(y_train)\n",
    "    y_test_lb = lb.fit_transform(y_test)\n",
    "    \n",
    "    return (X_train_pad, X_test_pad, y_train_lb, y_test_lb)"
   ]
  },
  {
   "cell_type": "code",
   "execution_count": 26,
   "id": "8b990b17-5dd4-4ba9-bd42-39612220517d",
   "metadata": {
    "execution": {
     "iopub.execute_input": "2022-05-06T09:12:03.543121Z",
     "iopub.status.busy": "2022-05-06T09:12:03.542589Z",
     "iopub.status.idle": "2022-05-06T09:12:03.566249Z",
     "shell.execute_reply": "2022-05-06T09:12:03.564866Z",
     "shell.execute_reply.started": "2022-05-06T09:12:03.543072Z"
    }
   },
   "outputs": [
    {
     "name": "stdout",
     "output_type": "stream",
     "text": [
      "[INFO] Normalizing data...\n"
     ]
    }
   ],
   "source": [
    "(X_train_pad, X_test_pad, y_train_lb, y_test_lb) = normalize(X_train_seqs, X_test_seqs, y_train, y_test)"
   ]
  },
  {
   "cell_type": "markdown",
   "id": "13f3f019-961b-4099-9e9b-c517c3acfafb",
   "metadata": {},
   "source": [
    "__Compile model__"
   ]
  },
  {
   "cell_type": "code",
   "execution_count": 39,
   "id": "8cc75cb7-7eaa-4b51-930b-213402df937a",
   "metadata": {
    "execution": {
     "iopub.execute_input": "2022-05-04T12:49:01.605988Z",
     "iopub.status.busy": "2022-05-04T12:49:01.605474Z",
     "iopub.status.idle": "2022-05-04T12:49:01.617988Z",
     "shell.execute_reply": "2022-05-04T12:49:01.617214Z",
     "shell.execute_reply.started": "2022-05-04T12:49:01.605936Z"
    }
   },
   "outputs": [],
   "source": [
    "tf.keras.backend.clear_session()"
   ]
  },
  {
   "cell_type": "code",
   "execution_count": 28,
   "id": "092ac9b3-3590-4174-b40c-d3667be77e5d",
   "metadata": {
    "execution": {
     "iopub.execute_input": "2022-05-06T09:13:24.514016Z",
     "iopub.status.busy": "2022-05-06T09:13:24.513273Z",
     "iopub.status.idle": "2022-05-06T09:13:24.520623Z",
     "shell.execute_reply": "2022-05-06T09:13:24.519781Z",
     "shell.execute_reply.started": "2022-05-06T09:13:24.513961Z"
    },
    "tags": []
   },
   "outputs": [],
   "source": [
    "# Define global parameters \n",
    "# Vocabulary size \n",
    "VOCAB_SIZE = len(t.word_index)\n",
    "# Number of dimentions for embeddings \n",
    "EMBED_SIZE = 300\n",
    "# Number of epochs\n",
    "EPOCHS = 2\n",
    "# Batch size\n",
    "BATCH_SIZE = 128"
   ]
  },
  {
   "cell_type": "code",
   "execution_count": 30,
   "id": "8cfc48a8-3528-4ea7-a896-eaeeaadfd274",
   "metadata": {
    "execution": {
     "iopub.execute_input": "2022-05-06T09:13:29.492053Z",
     "iopub.status.busy": "2022-05-06T09:13:29.491530Z",
     "iopub.status.idle": "2022-05-06T09:13:29.603411Z",
     "shell.execute_reply": "2022-05-06T09:13:29.602062Z",
     "shell.execute_reply.started": "2022-05-06T09:13:29.492011Z"
    },
    "tags": []
   },
   "outputs": [
    {
     "name": "stdout",
     "output_type": "stream",
     "text": [
      "Model: \"sequential_1\"\n",
      "_________________________________________________________________\n",
      " Layer (type)                Output Shape              Param #   \n",
      "=================================================================\n",
      " embedding_1 (Embedding)     (None, 1000, 300)         1218000   \n",
      "                                                                 \n",
      " conv1d_3 (Conv1D)           (None, 1000, 128)         153728    \n",
      "                                                                 \n",
      " max_pooling1d_3 (MaxPooling  (None, 500, 128)         0         \n",
      " 1D)                                                             \n",
      "                                                                 \n",
      " conv1d_4 (Conv1D)           (None, 500, 64)           32832     \n",
      "                                                                 \n",
      " max_pooling1d_4 (MaxPooling  (None, 250, 64)          0         \n",
      " 1D)                                                             \n",
      "                                                                 \n",
      " conv1d_5 (Conv1D)           (None, 250, 32)           8224      \n",
      "                                                                 \n",
      " max_pooling1d_5 (MaxPooling  (None, 125, 32)          0         \n",
      " 1D)                                                             \n",
      "                                                                 \n",
      " flatten_1 (Flatten)         (None, 4000)              0         \n",
      "                                                                 \n",
      " dense_2 (Dense)             (None, 256)               1024256   \n",
      "                                                                 \n",
      " dense_3 (Dense)             (None, 1)                 257       \n",
      "                                                                 \n",
      "=================================================================\n",
      "Total params: 2,437,297\n",
      "Trainable params: 2,437,297\n",
      "Non-trainable params: 0\n",
      "_________________________________________________________________\n"
     ]
    }
   ],
   "source": [
    "# create the model\n",
    "model = Sequential()\n",
    "# embedding layer <- NEW!\n",
    "model.add(Embedding(VOCAB_SIZE, \n",
    "                    EMBED_SIZE, \n",
    "                    input_length=MX_SEQUENCE_LENGTH))\n",
    "\n",
    "# first convolution layer and pooling\n",
    "model.add(Conv1D(filters=128, \n",
    "                        kernel_size=4, \n",
    "                        padding='same',\n",
    "                        activation='relu'))\n",
    "model.add(MaxPooling1D(pool_size=2))\n",
    "\n",
    "# second convolution layer and pooling\n",
    "model.add(Conv1D(filters=64, \n",
    "                        kernel_size=4, \n",
    "                        padding='same', \n",
    "                        activation='relu'))\n",
    "model.add(MaxPooling1D(pool_size=2))\n",
    "\n",
    "# Third Convolutional layer and pooling \n",
    "model.add(Conv1D(filters=32, \n",
    "                        kernel_size=4, \n",
    "                        padding='same', \n",
    "                        activation='relu'))\n",
    "model.add(MaxPooling1D(pool_size=2))\n",
    "\n",
    "# fully-connected classification layer\n",
    "model.add(Flatten())\n",
    "model.add(Dense(256, activation='relu'))\n",
    "model.add(Dense(1, activation='sigmoid')) # BInary classification problems lets you use 1 node and a sigmoid function - instead of softmax\n",
    "model.compile(loss='binary_crossentropy', # Binary_crossentropy\n",
    "                        optimizer='adam', \n",
    "                        metrics=['accuracy'])\n",
    "# print model summary\n",
    "model.summary()"
   ]
  },
  {
   "cell_type": "markdown",
   "id": "1ed67bbd-5de9-4582-af17-729f432fd65a",
   "metadata": {},
   "source": [
    "__Testing function__"
   ]
  },
  {
   "cell_type": "code",
   "execution_count": null,
   "id": "2ff0de54-c9f2-4dc4-ad1d-74d91d0bcb4e",
   "metadata": {},
   "outputs": [],
   "source": [
    "def build_model():\n",
    "    # Print info\n",
    "    print(\"[INFO] Building model...\")\n",
    "    \n",
    "    # create the model\n",
    "    model = Sequential()\n",
    "    # embedding layer\n",
    "    model.add(Embedding(VOCAB_SIZE, \n",
    "                        EMBED_SIZE, \n",
    "                        input_length=MX_SEQUENCE_LENGTH))\n",
    "\n",
    "    # first convolution layer and pooling\n",
    "    model.add(Conv1D(filters=128, \n",
    "                            kernel_size=4, \n",
    "                            padding='same',\n",
    "                            activation='relu'))\n",
    "    model.add(MaxPooling1D(pool_size=2))\n",
    "\n",
    "    # second convolution layer and pooling\n",
    "    model.add(Conv1D(filters=64, \n",
    "                            kernel_size=4, \n",
    "                            padding='same', \n",
    "                            activation='relu'))\n",
    "    model.add(MaxPooling1D(pool_size=2))\n",
    "\n",
    "    # Third Convolutional layer and pooling \n",
    "    model.add(Conv1D(filters=32, \n",
    "                            kernel_size=4, \n",
    "                            padding='same', \n",
    "                            activation='relu'))\n",
    "    model.add(MaxPooling1D(pool_size=2))\n",
    "\n",
    "    # fully-connected classification layer\n",
    "    model.add(Flatten())\n",
    "    model.add(Dense(256, activation='relu'))\n",
    "    model.add(Dense(1, activation='sigmoid')) # BInary classification problems lets you use 1 node and a sigmoid function - instead of softmax\n",
    "    model.compile(loss='binary_crossentropy', # Binary_crossentropy\n",
    "                            optimizer='adam', \n",
    "                            metrics=['accuracy'])\n",
    "    # print info\n",
    "    print(\"[INFO] Model summary:\")\n",
    "    model.summary()\n",
    "    "
   ]
  },
  {
   "cell_type": "code",
   "execution_count": 42,
   "id": "3121753d-03a3-495b-aba9-9d361199f172",
   "metadata": {
    "execution": {
     "iopub.execute_input": "2022-05-04T12:50:56.127814Z",
     "iopub.status.busy": "2022-05-04T12:50:56.127291Z",
     "iopub.status.idle": "2022-05-04T12:51:04.885639Z",
     "shell.execute_reply": "2022-05-04T12:51:04.884912Z",
     "shell.execute_reply.started": "2022-05-04T12:50:56.127764Z"
    }
   },
   "outputs": [
    {
     "name": "stdout",
     "output_type": "stream",
     "text": [
      "Epoch 1/2\n",
      "12/12 [==============================] - 5s 333ms/step - loss: 0.7014 - accuracy: 0.4875 - val_loss: 0.6939 - val_accuracy: 0.4938\n",
      "Epoch 2/2\n",
      "12/12 [==============================] - 4s 315ms/step - loss: 0.6872 - accuracy: 0.5951 - val_loss: 0.6740 - val_accuracy: 0.6062\n"
     ]
    }
   ],
   "source": [
    "# Fitting\n",
    "history = model.fit(X_train_pad, y_train,\n",
    "                   epochs = EPOCHS,\n",
    "                   batch_size = BATCH_SIZE,\n",
    "                   validation_split = 0.1, # Some people also use a third validation data  \n",
    "                   verbose = True) # Verbose can be adjusted to decide the amount of information"
   ]
  },
  {
   "cell_type": "markdown",
   "id": "9ab87e24-0d4c-4da2-bb54-e04aba473714",
   "metadata": {},
   "source": [
    "__Evaluate__"
   ]
  },
  {
   "cell_type": "code",
   "execution_count": 77,
   "id": "4dbd634d-31ee-44b0-9c97-b1a2ecde0ab5",
   "metadata": {
    "execution": {
     "iopub.execute_input": "2022-05-04T13:15:28.812763Z",
     "iopub.status.busy": "2022-05-04T13:15:28.812355Z",
     "iopub.status.idle": "2022-05-04T13:15:29.111519Z",
     "shell.execute_reply": "2022-05-04T13:15:29.110838Z",
     "shell.execute_reply.started": "2022-05-04T13:15:28.812733Z"
    },
    "tags": []
   },
   "outputs": [
    {
     "name": "stdout",
     "output_type": "stream",
     "text": [
      "13/13 [==============================] - 0s 17ms/step - loss: 0.6736 - accuracy: 0.6325\n",
      "Accuracy: 0.6324999928474426\n"
     ]
    }
   ],
   "source": [
    "# Final evaluation of the model\n",
    "scores = model.evaluate(X_test_pad, y_test_lb, verbose=1)\n",
    "print(f\"Accuracy: {scores[1]}\")"
   ]
  },
  {
   "cell_type": "code",
   "execution_count": 78,
   "id": "fa4efa8e-2a43-4fe4-a1d8-56ce20c0feff",
   "metadata": {
    "execution": {
     "iopub.execute_input": "2022-05-04T13:15:30.270868Z",
     "iopub.status.busy": "2022-05-04T13:15:30.270257Z",
     "iopub.status.idle": "2022-05-04T13:15:30.512421Z",
     "shell.execute_reply": "2022-05-04T13:15:30.511705Z",
     "shell.execute_reply.started": "2022-05-04T13:15:30.270819Z"
    },
    "tags": []
   },
   "outputs": [
    {
     "data": {
      "text/plain": [
       "1860    1\n",
       "353     0\n",
       "1333    1\n",
       "905     0\n",
       "1289    1\n",
       "1273    1\n",
       "938     0\n",
       "1731    1\n",
       "65      0\n",
       "1323    1\n",
       "Name: label, dtype: int64"
      ]
     },
     "execution_count": 78,
     "metadata": {},
     "output_type": "execute_result"
    }
   ],
   "source": [
    "# 0.5 decision boundary\n",
    "predictions = (model.predict(X_test_pad) > 0.5).astype(\"int32\")\n",
    "# assign labels\n",
    "predictions = [0 if item == 1 else 1 for item in predictions]\n",
    "predictions[:10]\n",
    "y_test[:10]"
   ]
  },
  {
   "cell_type": "code",
   "execution_count": 80,
   "id": "4afadff7-a66e-4080-9261-38c252421cf7",
   "metadata": {
    "execution": {
     "iopub.execute_input": "2022-05-04T13:15:55.149458Z",
     "iopub.status.busy": "2022-05-04T13:15:55.148376Z",
     "iopub.status.idle": "2022-05-04T13:15:55.175678Z",
     "shell.execute_reply": "2022-05-04T13:15:55.174999Z",
     "shell.execute_reply.started": "2022-05-04T13:15:55.149370Z"
    },
    "tags": []
   },
   "outputs": [
    {
     "name": "stdout",
     "output_type": "stream",
     "text": [
      "              precision    recall  f1-score   support\n",
      "\n",
      "    negative       0.42      0.70      0.52       199\n",
      "    positive       0.12      0.04      0.06       201\n",
      "\n",
      "    accuracy                           0.37       400\n",
      "   macro avg       0.27      0.37      0.29       400\n",
      "weighted avg       0.27      0.37      0.29       400\n",
      "\n"
     ]
    },
    {
     "data": {
      "text/html": [
       "<div>\n",
       "<style scoped>\n",
       "    .dataframe tbody tr th:only-of-type {\n",
       "        vertical-align: middle;\n",
       "    }\n",
       "\n",
       "    .dataframe tbody tr th {\n",
       "        vertical-align: top;\n",
       "    }\n",
       "\n",
       "    .dataframe thead th {\n",
       "        text-align: right;\n",
       "    }\n",
       "</style>\n",
       "<table border=\"1\" class=\"dataframe\">\n",
       "  <thead>\n",
       "    <tr style=\"text-align: right;\">\n",
       "      <th></th>\n",
       "      <th>negative</th>\n",
       "      <th>positive</th>\n",
       "    </tr>\n",
       "  </thead>\n",
       "  <tbody>\n",
       "    <tr>\n",
       "      <th>negative</th>\n",
       "      <td>139</td>\n",
       "      <td>60</td>\n",
       "    </tr>\n",
       "    <tr>\n",
       "      <th>positive</th>\n",
       "      <td>193</td>\n",
       "      <td>8</td>\n",
       "    </tr>\n",
       "  </tbody>\n",
       "</table>\n",
       "</div>"
      ],
      "text/plain": [
       "          negative  positive\n",
       "negative       139        60\n",
       "positive       193         8"
      ]
     },
     "execution_count": 80,
     "metadata": {},
     "output_type": "execute_result"
    }
   ],
   "source": [
    "# confusion matrix and classification report\n",
    "labels = ['negative', 'positive']\n",
    "print(classification_report(y_test_lb, predictions, target_names=labels))"
   ]
  },
  {
   "cell_type": "code",
   "execution_count": 81,
   "id": "a6c49923-d1d2-462a-81c4-bfab4dd9bca3",
   "metadata": {
    "execution": {
     "iopub.execute_input": "2022-05-04T13:16:25.503228Z",
     "iopub.status.busy": "2022-05-04T13:16:25.502740Z",
     "iopub.status.idle": "2022-05-04T13:16:25.516999Z",
     "shell.execute_reply": "2022-05-04T13:16:25.516015Z",
     "shell.execute_reply.started": "2022-05-04T13:16:25.503196Z"
    },
    "tags": []
   },
   "outputs": [],
   "source": [
    "# Initialize label names\n",
    "label_names = [\"Nontoxic\", \"Toxic\"]\n",
    "# print classification report\n",
    "report = classification_report(y_test_lb, \n",
    "                               predictions, \n",
    "                               target_names=labels)"
   ]
  },
  {
   "cell_type": "code",
   "execution_count": 71,
   "id": "214d50de-e927-4c49-899b-a916b6f916f6",
   "metadata": {
    "collapsed": true,
    "execution": {
     "iopub.execute_input": "2022-05-04T13:13:49.807540Z",
     "iopub.status.busy": "2022-05-04T13:13:49.807233Z",
     "iopub.status.idle": "2022-05-04T13:13:49.820376Z",
     "shell.execute_reply": "2022-05-04T13:13:49.819684Z",
     "shell.execute_reply.started": "2022-05-04T13:13:49.807512Z"
    },
    "jupyter": {
     "outputs_hidden": true
    },
    "tags": []
   },
   "outputs": [
    {
     "data": {
      "text/plain": [
       "array([[0.51641995],\n",
       "       [0.50725526],\n",
       "       [0.5731248 ],\n",
       "       [0.50378656],\n",
       "       [0.5477123 ],\n",
       "       [0.5258719 ],\n",
       "       [0.52285224],\n",
       "       [0.5295818 ],\n",
       "       [0.48704234],\n",
       "       [0.49851745],\n",
       "       [0.49898455],\n",
       "       [0.5942222 ],\n",
       "       [0.53961873],\n",
       "       [0.49261457],\n",
       "       [0.48891592],\n",
       "       [0.49015495],\n",
       "       [0.5162645 ],\n",
       "       [0.49856758],\n",
       "       [0.5380647 ],\n",
       "       [0.5891865 ],\n",
       "       [0.49429306],\n",
       "       [0.5290786 ],\n",
       "       [0.5137889 ],\n",
       "       [0.5451408 ],\n",
       "       [0.5530527 ],\n",
       "       [0.4765228 ],\n",
       "       [0.5220979 ],\n",
       "       [0.49572057],\n",
       "       [0.5119548 ],\n",
       "       [0.5214282 ],\n",
       "       [0.5118777 ],\n",
       "       [0.48473087],\n",
       "       [0.5357668 ],\n",
       "       [0.52101743],\n",
       "       [0.5252472 ],\n",
       "       [0.4612865 ],\n",
       "       [0.5513469 ],\n",
       "       [0.53546274],\n",
       "       [0.51655656],\n",
       "       [0.51548314],\n",
       "       [0.52196574],\n",
       "       [0.50912637],\n",
       "       [0.5296525 ],\n",
       "       [0.4949555 ],\n",
       "       [0.542148  ],\n",
       "       [0.4746117 ],\n",
       "       [0.50331074],\n",
       "       [0.5195777 ],\n",
       "       [0.523296  ],\n",
       "       [0.5469853 ],\n",
       "       [0.6288587 ],\n",
       "       [0.50769097],\n",
       "       [0.5418684 ],\n",
       "       [0.5200639 ],\n",
       "       [0.50510454],\n",
       "       [0.5346797 ],\n",
       "       [0.60052496],\n",
       "       [0.5190065 ],\n",
       "       [0.5397067 ],\n",
       "       [0.53100926],\n",
       "       [0.51720923],\n",
       "       [0.5250011 ],\n",
       "       [0.51169187],\n",
       "       [0.5158639 ],\n",
       "       [0.5371257 ],\n",
       "       [0.53775376],\n",
       "       [0.5496506 ],\n",
       "       [0.5207334 ],\n",
       "       [0.49415886],\n",
       "       [0.5318399 ],\n",
       "       [0.53263766],\n",
       "       [0.4975926 ],\n",
       "       [0.5141435 ],\n",
       "       [0.50726587],\n",
       "       [0.54581654],\n",
       "       [0.5399311 ],\n",
       "       [0.5100271 ],\n",
       "       [0.5069933 ],\n",
       "       [0.5358568 ],\n",
       "       [0.5164496 ],\n",
       "       [0.4965907 ],\n",
       "       [0.5262041 ],\n",
       "       [0.5037333 ],\n",
       "       [0.51356643],\n",
       "       [0.52481997],\n",
       "       [0.5502807 ],\n",
       "       [0.5101472 ],\n",
       "       [0.5163864 ],\n",
       "       [0.5024071 ],\n",
       "       [0.55606496],\n",
       "       [0.5253434 ],\n",
       "       [0.5199785 ],\n",
       "       [0.5044264 ],\n",
       "       [0.5230576 ],\n",
       "       [0.6139013 ],\n",
       "       [0.5240037 ],\n",
       "       [0.5187444 ],\n",
       "       [0.50878775],\n",
       "       [0.5139511 ],\n",
       "       [0.5342587 ],\n",
       "       [0.49685705],\n",
       "       [0.4994568 ],\n",
       "       [0.5029977 ],\n",
       "       [0.52028424],\n",
       "       [0.52030313],\n",
       "       [0.5072358 ],\n",
       "       [0.49277943],\n",
       "       [0.50247073],\n",
       "       [0.4897521 ],\n",
       "       [0.50160426],\n",
       "       [0.5354643 ],\n",
       "       [0.5326832 ],\n",
       "       [0.514713  ],\n",
       "       [0.53470266],\n",
       "       [0.5181383 ],\n",
       "       [0.5130507 ],\n",
       "       [0.524522  ],\n",
       "       [0.48500752],\n",
       "       [0.5305732 ],\n",
       "       [0.57682776],\n",
       "       [0.53800756],\n",
       "       [0.51521665],\n",
       "       [0.5485151 ],\n",
       "       [0.5077104 ],\n",
       "       [0.5096442 ],\n",
       "       [0.53268707],\n",
       "       [0.51270294],\n",
       "       [0.5320649 ],\n",
       "       [0.51082397],\n",
       "       [0.52046114],\n",
       "       [0.4866648 ],\n",
       "       [0.50400805],\n",
       "       [0.52920806],\n",
       "       [0.4943704 ],\n",
       "       [0.48677266],\n",
       "       [0.5573888 ],\n",
       "       [0.5346255 ],\n",
       "       [0.57517004],\n",
       "       [0.5275657 ],\n",
       "       [0.52267027],\n",
       "       [0.5288158 ],\n",
       "       [0.49359927],\n",
       "       [0.54175293],\n",
       "       [0.5091215 ],\n",
       "       [0.53417885],\n",
       "       [0.48939937],\n",
       "       [0.50586927],\n",
       "       [0.5424139 ],\n",
       "       [0.51019335],\n",
       "       [0.50046575],\n",
       "       [0.53947765],\n",
       "       [0.506169  ],\n",
       "       [0.501223  ],\n",
       "       [0.5248701 ],\n",
       "       [0.5116575 ],\n",
       "       [0.5074661 ],\n",
       "       [0.49484473],\n",
       "       [0.53315   ],\n",
       "       [0.56197244],\n",
       "       [0.525878  ],\n",
       "       [0.5189496 ],\n",
       "       [0.49893856],\n",
       "       [0.48781767],\n",
       "       [0.5332441 ],\n",
       "       [0.5268154 ],\n",
       "       [0.5315498 ],\n",
       "       [0.52641416],\n",
       "       [0.5814306 ],\n",
       "       [0.5083478 ],\n",
       "       [0.53719556],\n",
       "       [0.521308  ],\n",
       "       [0.49910465],\n",
       "       [0.5345337 ],\n",
       "       [0.5233247 ],\n",
       "       [0.5222165 ],\n",
       "       [0.5959854 ],\n",
       "       [0.52437407],\n",
       "       [0.50154126],\n",
       "       [0.506697  ],\n",
       "       [0.50083226],\n",
       "       [0.5435001 ],\n",
       "       [0.5025458 ],\n",
       "       [0.5129469 ],\n",
       "       [0.56367517],\n",
       "       [0.4968278 ],\n",
       "       [0.5061699 ],\n",
       "       [0.5589639 ],\n",
       "       [0.5118495 ],\n",
       "       [0.51529026],\n",
       "       [0.53358114],\n",
       "       [0.6562852 ],\n",
       "       [0.50597024],\n",
       "       [0.5298233 ],\n",
       "       [0.5059322 ],\n",
       "       [0.49709377],\n",
       "       [0.4946081 ],\n",
       "       [0.5069096 ],\n",
       "       [0.5203311 ],\n",
       "       [0.5069418 ],\n",
       "       [0.49486223],\n",
       "       [0.5059128 ],\n",
       "       [0.5435028 ],\n",
       "       [0.535729  ],\n",
       "       [0.51762295],\n",
       "       [0.52691126],\n",
       "       [0.51223254],\n",
       "       [0.4918881 ],\n",
       "       [0.48867315],\n",
       "       [0.5634936 ],\n",
       "       [0.5151171 ],\n",
       "       [0.5320134 ],\n",
       "       [0.49004272],\n",
       "       [0.49387074],\n",
       "       [0.5256329 ],\n",
       "       [0.5318245 ],\n",
       "       [0.5284576 ],\n",
       "       [0.5408484 ],\n",
       "       [0.5091118 ],\n",
       "       [0.51208514],\n",
       "       [0.52724695],\n",
       "       [0.49775198],\n",
       "       [0.53253883],\n",
       "       [0.5051312 ],\n",
       "       [0.5316315 ],\n",
       "       [0.5039216 ],\n",
       "       [0.5114732 ],\n",
       "       [0.6003856 ],\n",
       "       [0.49338466],\n",
       "       [0.5387381 ],\n",
       "       [0.48631543],\n",
       "       [0.57300705],\n",
       "       [0.5308275 ],\n",
       "       [0.52483004],\n",
       "       [0.50772315],\n",
       "       [0.5361537 ],\n",
       "       [0.48048356],\n",
       "       [0.53706884],\n",
       "       [0.5103002 ],\n",
       "       [0.5400148 ],\n",
       "       [0.51716924],\n",
       "       [0.50366193],\n",
       "       [0.539952  ],\n",
       "       [0.5075662 ],\n",
       "       [0.525149  ],\n",
       "       [0.538754  ],\n",
       "       [0.508804  ],\n",
       "       [0.5205199 ],\n",
       "       [0.51914483],\n",
       "       [0.51573193],\n",
       "       [0.50771666],\n",
       "       [0.52515143],\n",
       "       [0.5178023 ],\n",
       "       [0.52313703],\n",
       "       [0.5124002 ],\n",
       "       [0.5445121 ],\n",
       "       [0.5392833 ],\n",
       "       [0.49377382],\n",
       "       [0.516423  ],\n",
       "       [0.5333929 ],\n",
       "       [0.51075625],\n",
       "       [0.5294352 ],\n",
       "       [0.5430026 ],\n",
       "       [0.50608456],\n",
       "       [0.5568235 ],\n",
       "       [0.52244884],\n",
       "       [0.5397086 ],\n",
       "       [0.5168758 ],\n",
       "       [0.505903  ],\n",
       "       [0.5078467 ],\n",
       "       [0.510827  ],\n",
       "       [0.5205215 ],\n",
       "       [0.5442701 ],\n",
       "       [0.5120918 ],\n",
       "       [0.6105082 ],\n",
       "       [0.55981725],\n",
       "       [0.5335202 ],\n",
       "       [0.48837328],\n",
       "       [0.5156786 ],\n",
       "       [0.53496295],\n",
       "       [0.50076216],\n",
       "       [0.56932133],\n",
       "       [0.525902  ],\n",
       "       [0.5348548 ],\n",
       "       [0.54570717],\n",
       "       [0.5349179 ],\n",
       "       [0.53863865],\n",
       "       [0.5308424 ],\n",
       "       [0.5246143 ],\n",
       "       [0.58567023],\n",
       "       [0.5146629 ],\n",
       "       [0.54617006],\n",
       "       [0.53747153],\n",
       "       [0.5518774 ],\n",
       "       [0.54602486],\n",
       "       [0.5063081 ],\n",
       "       [0.54960847],\n",
       "       [0.51091737],\n",
       "       [0.5309893 ],\n",
       "       [0.5405866 ],\n",
       "       [0.5089098 ],\n",
       "       [0.5360972 ],\n",
       "       [0.52344   ],\n",
       "       [0.5101684 ],\n",
       "       [0.5356254 ],\n",
       "       [0.5740753 ],\n",
       "       [0.5530962 ],\n",
       "       [0.596788  ],\n",
       "       [0.5367312 ],\n",
       "       [0.49575186],\n",
       "       [0.47594178],\n",
       "       [0.5359441 ],\n",
       "       [0.53734076],\n",
       "       [0.53627324],\n",
       "       [0.5218958 ],\n",
       "       [0.5731248 ],\n",
       "       [0.49502543],\n",
       "       [0.53476834],\n",
       "       [0.5274715 ],\n",
       "       [0.52464366],\n",
       "       [0.5375743 ],\n",
       "       [0.5286407 ],\n",
       "       [0.5731248 ],\n",
       "       [0.48788485],\n",
       "       [0.5046948 ],\n",
       "       [0.5181711 ],\n",
       "       [0.52910715],\n",
       "       [0.5199391 ],\n",
       "       [0.5032755 ],\n",
       "       [0.53591835],\n",
       "       [0.48889938],\n",
       "       [0.56334716],\n",
       "       [0.52943   ],\n",
       "       [0.52140445],\n",
       "       [0.5158162 ],\n",
       "       [0.5151523 ],\n",
       "       [0.5420887 ],\n",
       "       [0.4877143 ],\n",
       "       [0.48856053],\n",
       "       [0.4937151 ],\n",
       "       [0.53729874],\n",
       "       [0.47613242],\n",
       "       [0.5210234 ],\n",
       "       [0.5634353 ],\n",
       "       [0.5325015 ],\n",
       "       [0.48436984],\n",
       "       [0.54255474],\n",
       "       [0.48430163],\n",
       "       [0.53496295],\n",
       "       [0.5039613 ],\n",
       "       [0.494014  ],\n",
       "       [0.5268483 ],\n",
       "       [0.5157241 ],\n",
       "       [0.51777774],\n",
       "       [0.5376202 ],\n",
       "       [0.4828305 ],\n",
       "       [0.51815796],\n",
       "       [0.5450574 ],\n",
       "       [0.5332018 ],\n",
       "       [0.5302326 ],\n",
       "       [0.5425054 ],\n",
       "       [0.48779607],\n",
       "       [0.51659465],\n",
       "       [0.4909762 ],\n",
       "       [0.5192826 ],\n",
       "       [0.6009622 ],\n",
       "       [0.52295065],\n",
       "       [0.5364888 ],\n",
       "       [0.47960684],\n",
       "       [0.5229864 ],\n",
       "       [0.5012606 ],\n",
       "       [0.52385557],\n",
       "       [0.51721257],\n",
       "       [0.5211073 ],\n",
       "       [0.5438904 ],\n",
       "       [0.5295209 ],\n",
       "       [0.53762805],\n",
       "       [0.48357958],\n",
       "       [0.5242926 ],\n",
       "       [0.5284523 ],\n",
       "       [0.53215873],\n",
       "       [0.52626   ],\n",
       "       [0.529369  ],\n",
       "       [0.5180357 ],\n",
       "       [0.52387637],\n",
       "       [0.54990476],\n",
       "       [0.49145716],\n",
       "       [0.5204097 ],\n",
       "       [0.47785968],\n",
       "       [0.48620734],\n",
       "       [0.53615725],\n",
       "       [0.5330992 ],\n",
       "       [0.53283536],\n",
       "       [0.47940707],\n",
       "       [0.5326973 ],\n",
       "       [0.52850497],\n",
       "       [0.50627214],\n",
       "       [0.5518464 ],\n",
       "       [0.5197121 ],\n",
       "       [0.46128651],\n",
       "       [0.48455727]], dtype=float32)"
      ]
     },
     "execution_count": 71,
     "metadata": {},
     "output_type": "execute_result"
    }
   ],
   "source": [
    "predictions"
   ]
  },
  {
   "cell_type": "code",
   "execution_count": null,
   "id": "48ea6d30-ad79-44da-afc5-44be4a230f37",
   "metadata": {},
   "outputs": [],
   "source": []
  }
 ],
 "metadata": {
  "kernelspec": {
   "display_name": "Python 3 ",
   "language": "python",
   "name": "python3"
  },
  "language_info": {
   "codemirror_mode": {
    "name": "ipython",
    "version": 3
   },
   "file_extension": ".py",
   "mimetype": "text/x-python",
   "name": "python",
   "nbconvert_exporter": "python",
   "pygments_lexer": "ipython3",
   "version": "3.9.6"
  }
 },
 "nbformat": 4,
 "nbformat_minor": 5
}
